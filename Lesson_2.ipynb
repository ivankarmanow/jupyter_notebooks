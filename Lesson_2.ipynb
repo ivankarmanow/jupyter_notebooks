{
 "cells": [
  {
   "cell_type": "markdown",
   "metadata": {},
   "source": [
    "**Задача 1.1**\n",
    "\n",
    "У нашего знакомого Сергея появилась потребность в подсчете имеющихся у него денег. Каждый день он получает по 5 монет. Сколько монет в год будет получать Сергей? "
   ]
  },
  {
   "cell_type": "code",
   "execution_count": null,
   "metadata": {},
   "outputs": [
    {
     "ename": "",
     "evalue": "",
     "output_type": "error",
     "traceback": [
      "\u001b[1;31mRunning cells with 'Python 3.12.4' requires the ipykernel package.\n",
      "\u001b[1;31mRun the following command to install 'ipykernel' into the Python environment. \n",
      "\u001b[1;31mCommand: 'c:/Users/ivank/AppData/Local/Programs/Python/Python312/python.exe -m pip install ipykernel -U --user --force-reinstall'"
     ]
    }
   ],
   "source": [
    "монет_в_день = 5\n",
    "дней_в_году = 365\n",
    "\n",
    "print(монет_в_день*дней_в_году)"
   ]
  },
  {
   "cell_type": "markdown",
   "metadata": {},
   "source": [
    "**Задача 1.2**\n",
    "\n",
    "Как мы помним у Сергея есть черепашки, которым он покупает корм. Так получилось, что за день Сергей тратит по 2 монеты на корм для черепах. Сколько у Сергея будет оставаться денег в год при наличии трат на корм? "
   ]
  },
  {
   "cell_type": "code",
   "execution_count": null,
   "metadata": {},
   "outputs": [],
   "source": [
    "монет_за_корм = 2\n",
    "\n",
    "print((монет_в_день-монет_за_корм)*дней_в_году)"
   ]
  },
  {
   "cell_type": "markdown",
   "metadata": {},
   "source": [
    "**Типы данных в Python 3**\n",
    "\n",
    "Какие имена у типов данных в Python 3? Воспользуемся функцией **type()**."
   ]
  },
  {
   "cell_type": "code",
   "execution_count": 1,
   "metadata": {},
   "outputs": [
    {
     "name": "stdout",
     "output_type": "stream",
     "text": [
      "<class 'int'>\n",
      "<class 'float'>\n",
      "<class 'str'>\n"
     ]
    }
   ],
   "source": [
    "print(type(1))               # Целочсиленный тип данных от слова integer - целое число\n",
    "print(type(1.2))             # Числа с плавающей запятой  от слова float - плавающий\n",
    "print(type(\"Это строка\"))    # Строковый тип данных от слова string - строка"
   ]
  },
  {
   "cell_type": "markdown",
   "metadata": {},
   "source": [
    "Проверим арифимтические операции на челочисленными типами данных и над вещестевенными типами данных"
   ]
  },
  {
   "cell_type": "code",
   "execution_count": 3,
   "metadata": {},
   "outputs": [
    {
     "name": "stdout",
     "output_type": "stream",
     "text": [
      "3\n",
      "3.0\n",
      "2.0\n",
      "2.5\n"
     ]
    }
   ],
   "source": [
    "print(1 + 2)\n",
    "print(1.0 + 2.0)\n",
    "print(1.5 + 0.5)\n",
    "print(1.5 + 1)"
   ]
  },
  {
   "cell_type": "markdown",
   "metadata": {},
   "source": [
    "Можем наблюдать, что в Python можно производить своместные арифметические операции над целочисленными типами данных и над вещественными. То есть в данном языке программирования происходит автоматическое преобразование типов данных из одного в другой. "
   ]
  },
  {
   "cell_type": "markdown",
   "metadata": {},
   "source": [
    "Проверим совместные арифметические операции над строковыми типами данных и целочисленными . "
   ]
  },
  {
   "cell_type": "code",
   "execution_count": 6,
   "metadata": {},
   "outputs": [
    {
     "name": "stdout",
     "output_type": "stream",
     "text": [
      "Привет, мир!\n",
      "Привет, пользователь 1\n"
     ]
    }
   ],
   "source": [
    "print(\"Привет, \" + \"мир!\")\n",
    "print(\"Привет, пользователь \" + 1)"
   ]
  },
  {
   "cell_type": "markdown",
   "metadata": {},
   "source": [
    "**Задача 2.1**\n",
    "\n",
    "Проверим арифметические операции для строк самостоятельно. "
   ]
  },
  {
   "cell_type": "code",
   "execution_count": 15,
   "metadata": {},
   "outputs": [
    {
     "name": "stdout",
     "output_type": "stream",
     "text": [
      "Hello world\n",
      "Hello, Hello, Hello, \n"
     ]
    }
   ],
   "source": [
    "#Место для решения задачи 1.1\n",
    "print(\"Hello \" + \"world\")\n",
    "print(\"Hello, \" * 3)"
   ]
  },
  {
   "cell_type": "markdown",
   "metadata": {},
   "source": [
    "**Задача 2.2**\n",
    "\n",
    "Проверим какой тип имеют введенные пользователем данные."
   ]
  },
  {
   "cell_type": "code",
   "execution_count": 16,
   "metadata": {},
   "outputs": [
    {
     "name": "stdout",
     "output_type": "stream",
     "text": [
      "<class 'str'>\n"
     ]
    }
   ],
   "source": [
    "print(type(input()))"
   ]
  },
  {
   "cell_type": "markdown",
   "metadata": {},
   "source": [
    "**Задача 2.3**\n",
    "\n",
    "Сергей хочет поделится программой для расчета денег за год с другом. Необходимо доделать программу так, чтобы изначально был вопрос к пользователю о количестве монет, получаемых им за день. \n"
   ]
  },
  {
   "cell_type": "code",
   "execution_count": 19,
   "metadata": {},
   "outputs": [
    {
     "name": "stdout",
     "output_type": "stream",
     "text": [
      "1825\n"
     ]
    }
   ],
   "source": [
    "#Место для решения задачи 2.3 \n",
    "монет_в_день = int(input(\"Сколько монет в день вы получаете?\"))\n",
    "дней_в_году = 365\n",
    "\n",
    "print(монет_в_день*дней_в_году)"
   ]
  },
  {
   "cell_type": "markdown",
   "metadata": {},
   "source": [
    "**Задача 2.4**\n",
    "\n",
    "Доработаем предыдущую программу. Необходимо сделать более информативный вывод. "
   ]
  },
  {
   "cell_type": "code",
   "execution_count": 21,
   "metadata": {},
   "outputs": [
    {
     "name": "stdout",
     "output_type": "stream",
     "text": [
      "За год вы заработаете 1825 монет\n"
     ]
    }
   ],
   "source": [
    "#Место для решения задачи 2.4\n",
    "монет_в_день = int(input(\"Сколько монет в день вы получаете?\"))\n",
    "дней_в_году = 365\n",
    "\n",
    "print(\"За год вы заработаете \" + str(монет_в_день*дней_в_году) + \" монет\")"
   ]
  },
  {
   "cell_type": "markdown",
   "metadata": {},
   "source": [
    "**Задача 2.5**\n",
    "\n",
    "Недавно я случайно перехватил сообщение, которое я все никак не могу разгадать. Все что у меня есть – фраза и какой-то набор чисел.(Набор чисел – порядок срезанных символов). Может вы мне поможете решить задачу? Фраза: “не сможешь предсказать мысль!”, набор чисел: 20,24,2,18,0,19,7,8,9,2,11,12,5,2,3,12,13,18,28."
   ]
  },
  {
   "cell_type": "code",
   "execution_count": 23,
   "metadata": {},
   "outputs": [
    {
     "name": "stdout",
     "output_type": "stream",
     "text": [
      "ты знаешь про срез!\n"
     ]
    }
   ],
   "source": [
    "фраза = 'не сможешь предсказать мысль!'\n",
    "print(фраза[20]+фраза[24]+фраза[2]+фраза[18]+фраза[0]+фраза[19]+фраза[7]+фраза[8]+фраза[9]+фраза[2]+фраза[11]+фраза[12]+фраза[5]+фраза[2]+фраза[3]+фраза[12]+фраза[13]+фраза[18]+фраза[28])"
   ]
  },
  {
   "cell_type": "code",
   "execution_count": 27,
   "metadata": {},
   "outputs": [
    {
     "name": "stdout",
     "output_type": "stream",
     "text": [
      "Птиццаa\n"
     ]
    }
   ],
   "source": [
    "print('Пицца'[0] + 'т' + 'Пицца'[1:3] + 'a')"
   ]
  },
  {
   "cell_type": "markdown",
   "metadata": {},
   "source": [
    "**Задача 2.6**\n",
    "\n",
    "Друг Сергея отправил ему сообщение, при прочтении сообщения Сергей обнаружил ошибки в словах и хотел бы их поправить. Текст сообщения: \"Приет, Сергей! Спосибо большок за пргорамму!\""
   ]
  },
  {
   "cell_type": "code",
   "execution_count": 35,
   "metadata": {},
   "outputs": [
    {
     "name": "stdout",
     "output_type": "stream",
     "text": [
      "Привет, Сергей! Спосибо большок за пргорамму!\n",
      "Привет, Сергей! Спасибо большок за пргорамму!\n",
      "Привет, Сергей! Спасибо большое за пргорамму!\n",
      "Привет, Сергей! Спасибо большое за программу!\n"
     ]
    }
   ],
   "source": [
    "сообщение = \"риет, Сергей! Спосибо большок за пргорамму!\"\n",
    "\n",
    "# print(сообщение[0])                                   #Вывод символа по индексу\n",
    "\n",
    "# print(сообщение[2:])                                  #Вывод среза строки\n",
    "сообщение = \"П\" + сообщение[0:2] + \"в\" + сообщение[2:]#Пример исправления строки\n",
    "print(сообщение)\n",
    "#Нужно самостоятельно исправить оставшееся сообщение\n",
    "сообщение = сообщение[:18] + \"а\" + сообщение[19:]\n",
    "print(сообщение)\n",
    "сообщение = сообщение[:30] + \"е\" + сообщение[31:]\n",
    "print(сообщение)\n",
    "сообщение = сообщение[:37] + \"ог\" + сообщение[39:]\n",
    "print(сообщение)"
   ]
  },
  {
   "cell_type": "markdown",
   "metadata": {},
   "source": [
    "**Задача 3.1**\n",
    "\n",
    "Напишите программу, которая “перевернет” ваше имя и позволит его прочитать с конца. "
   ]
  },
  {
   "cell_type": "code",
   "execution_count": 41,
   "metadata": {},
   "outputs": [
    {
     "name": "stdout",
     "output_type": "stream",
     "text": [
      "Привет, мир\n"
     ]
    }
   ],
   "source": [
    "текст = \"Привет, мир!\"\n",
    "print(текст[::-1])"
   ]
  },
  {
   "cell_type": "markdown",
   "metadata": {},
   "source": [
    "**Задача 3.2**\n",
    "\n",
    "Создайте программу-испытание для соседей, которая за определённое количество срезов должна будет вывести существующее слово. Например, из “пиццы” в “птицу”. Пользователь программы должен вручную вводить номера символов или диапазон срезаемой строки. "
   ]
  },
  {
   "cell_type": "code",
   "execution_count": 43,
   "metadata": {},
   "outputs": [
    {
     "ename": "TypeError",
     "evalue": "slice indices must be integers or None or have an __index__ method",
     "output_type": "error",
     "traceback": [
      "\u001b[1;31m---------------------------------------------------------------------------\u001b[0m",
      "\u001b[1;31mTypeError\u001b[0m                                 Traceback (most recent call last)",
      "Cell \u001b[1;32mIn[43], line 4\u001b[0m\n\u001b[0;32m      2\u001b[0m номер \u001b[38;5;241m=\u001b[39m \u001b[38;5;28minput\u001b[39m(\u001b[38;5;124m\"\u001b[39m\u001b[38;5;124mВведите номер символа\u001b[39m\u001b[38;5;124m\"\u001b[39m)\n\u001b[0;32m      3\u001b[0m символ \u001b[38;5;241m=\u001b[39m \u001b[38;5;28minput\u001b[39m(\u001b[38;5;124m\"\u001b[39m\u001b[38;5;124mВведите символ\u001b[39m\u001b[38;5;124m\"\u001b[39m)\n\u001b[1;32m----> 4\u001b[0m слово \u001b[38;5;241m=\u001b[39m \u001b[43mслово\u001b[49m\u001b[43m[\u001b[49m\u001b[43m:\u001b[49m\u001b[43mномер\u001b[49m\u001b[43m]\u001b[49m \u001b[38;5;241m+\u001b[39m символ \u001b[38;5;241m+\u001b[39m слово[номер\u001b[38;5;241m+\u001b[39m\u001b[38;5;241m1\u001b[39m:]\n\u001b[0;32m      5\u001b[0m \u001b[38;5;28mprint\u001b[39m(слово)\n",
      "\u001b[1;31mTypeError\u001b[0m: slice indices must be integers or None or have an __index__ method"
     ]
    }
   ],
   "source": [
    "слово = input(\"Введите слово\")\n",
    "номер = int(input(\"Введите номер символа\"))\n",
    "символ = input(\"Введите символ\")\n",
    "слово = слово[:номер] + символ + слово[номер+1:]\n",
    "print(слово)"
   ]
  }
 ],
 "metadata": {
  "kernelspec": {
   "display_name": "Python 3",
   "language": "python",
   "name": "python3"
  },
  "language_info": {
   "codemirror_mode": {
    "name": "ipython",
    "version": 3
   },
   "file_extension": ".py",
   "mimetype": "text/x-python",
   "name": "python",
   "nbconvert_exporter": "python",
   "pygments_lexer": "ipython3",
   "version": "3.12.4"
  }
 },
 "nbformat": 4,
 "nbformat_minor": 2
}
